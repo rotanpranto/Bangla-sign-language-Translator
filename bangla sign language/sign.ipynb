{
 "cells": [
  {
   "cell_type": "code",
   "execution_count": null,
   "id": "48f49834-5169-438c-b545-bfeb0ddafd75",
   "metadata": {},
   "outputs": [],
   "source": [
    "import os\n",
    "import cv2\n",
    "import winsound\n",
    "import numpy as np\n",
    "import mediapipe as mp\n",
    "from matplotlib import pyplot as plt\n",
    "from sklearn.model_selection import train_test_split\n",
    "from tensorflow.keras.utils import to_categorical\n",
    "from tensorflow.keras.models import Sequential\n",
    "from tensorflow.keras.layers import LSTM, Dense\n",
    "from tensorflow.keras.callbacks import TensorBoard\n",
    "from sklearn.metrics import multilabel_confusion_matrix, accuracy_score, f1_score"
   ]
  },
  {
   "cell_type": "code",
   "execution_count": null,
   "id": "a50071e6-919e-45a2-a6f0-68bd02279880",
   "metadata": {},
   "outputs": [],
   "source": [
    "mp_holistic = mp.solutions.holistic \n",
    "mp_drawing = mp.solutions.drawing_utils "
   ]
  },
  {
   "cell_type": "code",
   "execution_count": null,
   "id": "485e2d96-9cbd-41b4-b465-99ed9be73c47",
   "metadata": {},
   "outputs": [],
   "source": [
    "def mediapipe_detection(image, model):\n",
    "    image = cv2.cvtColor(image, cv2.COLOR_BGR2RGB)\n",
    "    image.flags.writeable = False \n",
    "    results = model.process(image)  \n",
    "    image.flags.writeable = False \n",
    "    image = cv2.cvtColor(image, cv2.COLOR_RGB2BGR) \n",
    "    return image, results"
   ]
  },
  {
   "cell_type": "code",
   "execution_count": null,
   "id": "aafd44c7-c012-4ed8-8459-8ccce4090df7",
   "metadata": {},
   "outputs": [],
   "source": [
    "def draw_styled_landmarks(image, results):\n",
    "    mp_drawing.draw_landmarks(image, results.face_landmarks, mp_holistic.FACEMESH_TESSELATION,\n",
    "                             mp_drawing.DrawingSpec(color=(80, 110, 10), thickness=1, circle_radius=1),\n",
    "                             mp_drawing.DrawingSpec(color=(80, 256, 121), thickness=1, circle_radius=1)\n",
    "                            )\n",
    "    mp_drawing.draw_landmarks(image, results.pose_landmarks, mp_holistic.POSE_CONNECTIONS,\n",
    "                             mp_drawing.DrawingSpec(color=(80, 22, 10), thickness=2, circle_radius=4),\n",
    "                             mp_drawing.DrawingSpec(color=(80, 44, 121), thickness=2, circle_radius=2)\n",
    "                            )\n",
    "    mp_drawing.draw_landmarks(image, results.left_hand_landmarks, mp_holistic.HAND_CONNECTIONS,\n",
    "                             mp_drawing.DrawingSpec(color=(121, 22, 76), thickness=2, circle_radius=4),\n",
    "                             mp_drawing.DrawingSpec(color=(121, 44, 250), thickness=2, circle_radius=2)\n",
    "                            )\n",
    "    mp_drawing.draw_landmarks(image, results.right_hand_landmarks, mp_holistic.HAND_CONNECTIONS,\n",
    "                             mp_drawing.DrawingSpec(color=(245, 117, 66), thickness=2, circle_radius=4),\n",
    "                             mp_drawing.DrawingSpec(color=(245, 66, 230), thickness=2, circle_radius=2)\n",
    "                            )"
   ]
  },
  {
   "cell_type": "code",
   "execution_count": null,
   "id": "5e636a4b-7044-40b7-864a-b6fe19b0ad18",
   "metadata": {},
   "outputs": [],
   "source": [
    "def extract_keypoints(results):\n",
    "    pose = np.array([[res.x, res.y, res.z, res.visibility] for res in results.pose_landmarks.landmark]).flatten() if results.pose_landmarks else np.zeros(33*4)\n",
    "    face = np.array([[res.x, res.y, res.z] for res in results.face_landmarks.landmark]).flatten() if results.face_landmarks else np.zeros(468*3)\n",
    "    lh = np.array([[res.x, res.y, res.z] for res in results.left_hand_landmarks.landmark]).flatten() if results.left_hand_landmarks else np.zeros(21*3)\n",
    "    rh = np.array([[res.x, res.y, res.z] for res in results.right_hand_landmarks.landmark]).flatten() if results.right_hand_landmarks else np.zeros(21*3)\n",
    "    return np.concatenate([pose, face, lh, rh])"
   ]
  },
  {
   "cell_type": "code",
   "execution_count": null,
   "id": "05975400-f21b-4c76-b3a2-e2c6312640a5",
   "metadata": {},
   "outputs": [],
   "source": [
    "DATA_PATH = os.path.join('DATA') \n",
    "actions = [folder for folder in os.listdir(DATA_PATH) if os.path.isdir(os.path.join(DATA_PATH, folder))]\n",
    "no_sequences = 30\n",
    "sequence_length = 30"
   ]
  },
  {
   "cell_type": "code",
   "execution_count": null,
   "id": "9115c3c7-0161-4e99-8344-596f6b802b0a",
   "metadata": {},
   "outputs": [],
   "source": [
    "for action in actions: \n",
    "    for sequence in range(no_sequences):\n",
    "        try: \n",
    "            os.makedirs(os.path.join(DATA_PATH, action, str(sequence)))\n",
    "        except:\n",
    "            pass"
   ]
  },
  {
   "cell_type": "code",
   "execution_count": null,
   "id": "ca51c36a-44cb-421e-9e5c-e2e012cc0177",
   "metadata": {},
   "outputs": [],
   "source": [
    "from PIL import Image,ImageFont, ImageDraw\n",
    "\n",
    "cap = cv2.VideoCapture(0)\n",
    "font_path = \"SolaimanLipi/SolaimanLipi_22-02-2012.ttf\"\n",
    "\n",
    "\n",
    "def render_text(image, text, position, font_path, font_size, font_color):\n",
    "    \n",
    "    font = ImageFont.truetype(font_path, font_size)\n",
    "    \n",
    "    pil_image = Image.fromarray(image)\n",
    "    draw = ImageDraw.Draw(pil_image)\n",
    "    \n",
    "    draw.text(position, text, font=font, fill=font_color)\n",
    "    \n",
    "    return np.array(pil_image)\n",
    "\n",
    "\n",
    "with mp_holistic.Holistic(min_detection_confidence=0.5, min_tracking_confidence=0.5) as holistic:\n",
    "    \n",
    "   \n",
    "    for action in actions:\n",
    "        \n",
    "        for sequence in range(no_sequences):\n",
    "           \n",
    "            for frame_num in range(sequence_length):\n",
    "\n",
    "              \n",
    "                ret, frame = cap.read()\n",
    "\n",
    "               \n",
    "                image, results = mediapipe_detection(frame, holistic)\n",
    "\n",
    "               \n",
    "                draw_styled_landmarks(image, results)\n",
    "                \n",
    "                \n",
    "                if frame_num == 0: \n",
    "                 \n",
    "                    image = render_text(image, 'STARTING COLLECTION', (120,200), font_path, 20, (0,255, 0))\n",
    "                    image = render_text(image, 'Collecting frames for {} Video Number {}'.format(action, sequence), (15,12), font_path, 10, (0, 0, 255))\n",
    "                   \n",
    "                    cv2.imshow('OpenCV Feed', image)\n",
    "                    cv2.waitKey(2000)\n",
    "                else: \n",
    "                    \n",
    "                    image = render_text(image, 'Collecting frames for {} Video Number {}'.format(action, sequence), (15,12), font_path, 10, (0, 0, 255))\n",
    "                   \n",
    "                    cv2.imshow('OpenCV Feed', image)\n",
    "                \n",
    "                \n",
    "                keypoints = extract_keypoints(results)\n",
    "                npy_path = os.path.join(DATA_PATH, action, str(sequence), str(frame_num))\n",
    "                np.save(npy_path, keypoints)\n",
    "\n",
    "                \n",
    "                if cv2.waitKey(10) & 0xFF == ord('q'):\n",
    "                    break\n",
    "                    \n",
    "    cap.release()\n",
    "    cv2.destroyAllWindows()"
   ]
  },
  {
   "cell_type": "code",
   "execution_count": null,
   "id": "e75578a8-f0e9-413a-baac-30896c9c40d0",
   "metadata": {},
   "outputs": [],
   "source": [
    "label_map = {label:num for num, label in enumerate(actions)}"
   ]
  },
  {
   "cell_type": "code",
   "execution_count": null,
   "id": "1d39c015-9b13-4651-8675-353822a07260",
   "metadata": {},
   "outputs": [],
   "source": [
    "label_map"
   ]
  },
  {
   "cell_type": "code",
   "execution_count": null,
   "id": "40d5e5fc-0242-4953-b85c-6a5f56ea689c",
   "metadata": {},
   "outputs": [],
   "source": [
    "sequences, labels = [], []\n",
    "for action in actions:\n",
    "    for sequence in range(no_sequences):\n",
    "        window = []\n",
    "        for frame_num in range(sequence_length):\n",
    "            res = np.load(os.path.join(DATA_PATH, action, str(sequence), \"{}.npy\".format(frame_num)))\n",
    "            window.append(res)\n",
    "        sequences.append(window)\n",
    "        labels.append(label_map[action])"
   ]
  },
  {
   "cell_type": "code",
   "execution_count": null,
   "id": "52f061e8-1e69-49e5-bd3a-a3412adaca4d",
   "metadata": {},
   "outputs": [],
   "source": [
    "X = np.array(sequences)\n",
    "y = to_categorical(labels).astype(int)\n",
    "print(X.shape)\n",
    "print(y.shape)"
   ]
  },
  {
   "cell_type": "code",
   "execution_count": null,
   "id": "8b5e2827-4a75-4f12-8ec4-8271b4c6e70e",
   "metadata": {},
   "outputs": [],
   "source": [
    "X_train, X_test, y_train, y_test = train_test_split(X, y, test_size=0.05)"
   ]
  },
  {
   "cell_type": "code",
   "execution_count": null,
   "id": "da85faaf-a6f5-45ca-ab29-19b75efec594",
   "metadata": {},
   "outputs": [],
   "source": [
    "log_dir = os.path.join('Logs')\n",
    "tb_callback = TensorBoard(log_dir=log_dir)"
   ]
  },
  {
   "cell_type": "code",
   "execution_count": null,
   "id": "e19a79ea-265c-473b-ac2e-3d80142f0940",
   "metadata": {},
   "outputs": [],
   "source": [
    "model = Sequential()\n",
    "model.add(LSTM(64, return_sequences=True, activation='relu', input_shape=(30,1662)))\n",
    "model.add(LSTM(128, return_sequences=True, activation='relu'))\n",
    "model.add(LSTM(64, return_sequences=False, activation='relu'))\n",
    "model.add(Dense(64, activation='relu'))\n",
    "model.add(Dense(32, activation='relu'))\n",
    "model.add(Dense(len(actions), activation='softmax'))"
   ]
  },
  {
   "cell_type": "code",
   "execution_count": null,
   "id": "dfab65a9-f52d-410f-adc9-064e2f3fe72c",
   "metadata": {},
   "outputs": [],
   "source": [
    "res = [.7, 0.2, 0.1]"
   ]
  },
  {
   "cell_type": "code",
   "execution_count": null,
   "id": "05e9543a-f415-4e0a-a110-3c66714dda9b",
   "metadata": {},
   "outputs": [],
   "source": [
    "actions[np.argmax(res)]"
   ]
  },
  {
   "cell_type": "code",
   "execution_count": null,
   "id": "8b44f9ea-acfc-4077-96fb-7caa0a00b6d4",
   "metadata": {},
   "outputs": [],
   "source": [
    "model.compile(optimizer='Adam', loss='categorical_crossentropy', metrics=['categorical_accuracy'])\n",
    "model.fit(X_train, y_train, epochs=500, callbacks=[tb_callback])"
   ]
  },
  {
   "cell_type": "code",
   "execution_count": null,
   "id": "6d5cee1e-7bc2-4858-9fb4-cd8eb2dd3876",
   "metadata": {},
   "outputs": [],
   "source": [
    "import tensorflow as tf\n",
    "\n",
    "model = tf.keras.models.load_model('499model.keras')\n",
    "\n",
    "model.summary()"
   ]
  },
  {
   "cell_type": "code",
   "execution_count": null,
   "id": "a6a2653c-2e90-45a3-863a-61bee9516fac",
   "metadata": {},
   "outputs": [],
   "source": [
    "res = model.predict(X_test)"
   ]
  },
  {
   "cell_type": "code",
   "execution_count": null,
   "id": "e15e4445-f73c-445d-accf-10f695e53a05",
   "metadata": {},
   "outputs": [],
   "source": [
    "print(\"Preditecd:\", actions[np.argmax(res[0])])\n",
    "print(\"Actual:\", actions[np.argmax(y_test[0])])"
   ]
  },
  {
   "cell_type": "code",
   "execution_count": null,
   "id": "45cb7f5c-a471-4250-854b-ad5f7f58f14e",
   "metadata": {},
   "outputs": [],
   "source": [
    "yhat = model.predict(X_test)\n",
    "ytrue = np.argmax(y_test, axis=1).tolist()\n",
    "yhat = np.argmax(yhat, axis=1).tolist()"
   ]
  },
  {
   "cell_type": "code",
   "execution_count": null,
   "id": "0fb34dac-73bb-4b0a-b8f7-2b6b9dd2ad78",
   "metadata": {},
   "outputs": [],
   "source": [
    "multilabel_confusion_matrix(ytrue, yhat)"
   ]
  },
  {
   "cell_type": "code",
   "execution_count": null,
   "id": "160922d9-013a-46fd-8cd8-35091e9c5cac",
   "metadata": {},
   "outputs": [],
   "source": [
    "accuracy_score(ytrue, yhat)"
   ]
  },
  {
   "cell_type": "code",
   "execution_count": null,
   "id": "25ecb0b0-d2a8-4fa9-b1ce-d5060c732d30",
   "metadata": {},
   "outputs": [],
   "source": [
    "f1_score(ytrue, yhat, average=\"macro\")"
   ]
  },
  {
   "cell_type": "code",
   "execution_count": null,
   "id": "ac762e3d-68c1-4f7b-99a6-3f3e657ac955",
   "metadata": {},
   "outputs": [],
   "source": [
    "model.save('499model.keras')"
   ]
  },
  {
   "cell_type": "code",
   "execution_count": null,
   "id": "77167544-fe96-4487-a6b1-7c368445f90b",
   "metadata": {},
   "outputs": [],
   "source": [
    "from PIL import ImageFont, ImageDraw, Image\n",
    "\n",
    "sequence = []\n",
    "sentence = []\n",
    "threshold = 0.4\n",
    "cap = cv2.VideoCapture(0)\n",
    "font_path = \"SolaimanLipi/kalpurush.ttf\"\n",
    "\n",
    "def render_text(image, text, position, font_path, font_size, font_color):\n",
    "    text = text.encode('utf-8').decode('utf-8')\n",
    "    # Load the font\n",
    "    font = ImageFont.truetype(font_path, font_size)\n",
    "    # Convert the OpenCV image to a PIL image\n",
    "    pil_image = Image.fromarray(image)\n",
    "    draw = ImageDraw.Draw(pil_image)\n",
    "    # Render the text onto the PIL image\n",
    "    draw.text(position, text, font=font, fill=font_color)\n",
    "    # Convert the PIL image back to an OpenCV image\n",
    "    return np.array(pil_image)\n",
    "\n",
    "with mp_holistic.Holistic(min_detection_confidence=0.5, min_tracking_confidence=0.5) as holistic:\n",
    "    while True:\n",
    "        ret, frame = cap.read()  # Capture the video frame by frame\n",
    "        image, results = mediapipe_detection(frame, holistic)\n",
    "        print(results)\n",
    "        \n",
    "        # Make detection\n",
    "        draw_styled_landmarks(image, results)  # Draw\n",
    "        \n",
    "        keypoints = extract_keypoints(results)\n",
    "        sequence.insert(0, keypoints)\n",
    "        sequence = sequence[:30]\n",
    "        \n",
    "        if len(sequence) == 30:\n",
    "            res = model.predict(np.expand_dims(sequence, axis=0))[0]\n",
    "            print(actions[np.argmax(res)])\n",
    "\n",
    "            # Compare each element of the array with the threshold\n",
    "            if np.any(res > threshold):\n",
    "                if len(sentence) > 0:\n",
    "                    if actions[np.argmax(res)] != sentence[-1]:\n",
    "                        sentence.append(actions[np.argmax(res)])\n",
    "                else:\n",
    "                    sentence.append(actions[np.argmax(res)])\n",
    "\n",
    "        if len(sentence) > 3:\n",
    "            sentence = sentence[-3:]\n",
    "\n",
    "        # Render the text on the frame\n",
    "        text_to_display = '   '.join(sentence).encode('utf-8').decode('utf-8')\n",
    "        image_with_text = render_text(image, text_to_display, (11, 50), font_path, 1, (255, 255, 255))\n",
    "\n",
    "        # Create a black background box for displaying the text outside the frame\n",
    "        text_box = np.zeros((100, image_with_text.shape[1], 3), dtype=np.uint8)\n",
    "        text_box[:] = (0, 0, 0)  # Black background\n",
    "        text_box = render_text(text_box, text_to_display, (10, 10), font_path, 24, (255, 255, 255))\n",
    "\n",
    "        # Combine the image and the text box\n",
    "        combined_image = np.vstack((image_with_text, text_box))\n",
    "\n",
    "        cv2.imshow('Real time Predict', combined_image)\n",
    "        if cv2.waitKey(1) & 0xFF == ord('q'):\n",
    "            break\n",
    "\n",
    "    cap.release()\n",
    "    cv2.destroyAllWindows()"
   ]
  }
 ],
 "metadata": {
  "kernelspec": {
   "display_name": "Python 3 (ipykernel)",
   "language": "python",
   "name": "python3"
  },
  "language_info": {
   "codemirror_mode": {
    "name": "ipython",
    "version": 3
   },
   "file_extension": ".py",
   "mimetype": "text/x-python",
   "name": "python",
   "nbconvert_exporter": "python",
   "pygments_lexer": "ipython3",
   "version": "3.11.7"
  }
 },
 "nbformat": 4,
 "nbformat_minor": 5
}
